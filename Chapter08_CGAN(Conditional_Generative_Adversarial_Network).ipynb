{
 "cells": [
  {
   "cell_type": "code",
   "execution_count": 1,
   "id": "b6213cfb",
   "metadata": {},
   "outputs": [
    {
     "name": "stderr",
     "output_type": "stream",
     "text": [
      "C:\\Users\\shdhk\\anaconda3\\envs\\agent\\lib\\site-packages\\torchvision\\io\\image.py:11: UserWarning: Failed to load image Python extension: Could not find module 'C:\\Users\\shdhk\\anaconda3\\envs\\agent\\Lib\\site-packages\\torchvision\\image.pyd' (or one of its dependencies). Try using the full path with constructor syntax.\n",
      "  warn(f\"Failed to load image Python extension: {e}\")\n"
     ]
    }
   ],
   "source": [
    "import os\n",
    "import numpy as np\n",
    "import matplotlib.pyplot as plt\n",
    "\n",
    "import torch\n",
    "import torch.nn as nn\n",
    "import torch.optim as optim\n",
    "import torch.nn.functional as F\n",
    "from torchsummary import summary\n",
    "from torchvision.datasets import MNIST"
   ]
  },
  {
   "cell_type": "code",
   "execution_count": 2,
   "id": "c597a07d",
   "metadata": {},
   "outputs": [],
   "source": [
    "plt.style.use(\"ggplot\")\n",
    "DEVICE = torch.device(\"cuda\") if torch.cuda.is_available() else torch.device(\"cpu\")\n",
    "CHANNELS, IMG_ROWS, IMG_COLS = 1, 28, 28\n",
    "IMG_SHAPE = (CHANNELS, IMG_ROWS, IMG_COLS)\n",
    "Z_DIM = 100\n",
    "NUM_CLASSES = 10"
   ]
  },
  {
   "cell_type": "code",
   "execution_count": 3,
   "id": "93754239",
   "metadata": {},
   "outputs": [
    {
     "name": "stdout",
     "output_type": "stream",
     "text": [
      "----------------------------------------------------------------\n",
      "        Layer (type)               Output Shape         Param #\n",
      "================================================================\n",
      "         Embedding-1                  [-1, 100]           1,000\n",
      "            Linear-2                [-1, 12544]       1,266,944\n",
      "   ConvTranspose2d-3          [-1, 128, 14, 14]         295,040\n",
      "       BatchNorm2d-4          [-1, 128, 14, 14]             256\n",
      "         LeakyReLU-5          [-1, 128, 14, 14]               0\n",
      "   ConvTranspose2d-6           [-1, 64, 14, 14]          73,792\n",
      "       BatchNorm2d-7           [-1, 64, 14, 14]             128\n",
      "         LeakyReLU-8           [-1, 64, 14, 14]               0\n",
      "   ConvTranspose2d-9            [-1, 1, 28, 28]             577\n",
      "             Tanh-10            [-1, 1, 28, 28]               0\n",
      "        Generator-11            [-1, 1, 28, 28]               0\n",
      "================================================================\n",
      "Total params: 1,637,737\n",
      "Trainable params: 1,637,737\n",
      "Non-trainable params: 0\n",
      "----------------------------------------------------------------\n",
      "Input size (MB): 0.00\n",
      "Forward/backward pass size (MB): 0.98\n",
      "Params size (MB): 6.25\n",
      "Estimated Total Size (MB): 7.22\n",
      "----------------------------------------------------------------\n"
     ]
    }
   ],
   "source": [
    "class Generator(nn.Module):\n",
    "    def __init__(self, z_dim):\n",
    "        super(Generator, self).__init__()\n",
    "        self.fc = nn.Linear(z_dim, 256 * 7 * 7)\n",
    "        self.model = nn.Sequential(\n",
    "            nn.ConvTranspose2d(in_channels=256, out_channels=128, kernel_size=3, stride=2, padding=1, output_padding=1),\n",
    "            nn.BatchNorm2d(128),\n",
    "            nn.LeakyReLU(negative_slope=0.01, inplace=True),\n",
    "            nn.ConvTranspose2d(in_channels=128, out_channels=64, kernel_size=3, stride=1, padding=1),\n",
    "            nn.BatchNorm2d(64),\n",
    "            nn.LeakyReLU(negative_slope=0.01, inplace=True),\n",
    "            nn.ConvTranspose2d(in_channels=64, out_channels=1, kernel_size=3, stride=2, padding=1, output_padding=1),\n",
    "            nn.Tanh(),\n",
    "        )\n",
    "\n",
    "    def forward(self, x):\n",
    "        x = self.fc(x)\n",
    "        x = x.reshape(-1, 256, 7, 7)\n",
    "        output = self.model(x)\n",
    "        return output\n",
    "\n",
    "\n",
    "class ConditionalGenerator(nn.Module):\n",
    "    def __init__(self, z_dim):\n",
    "        super(ConditionalGenerator, self).__init__()\n",
    "        self.label_embedding = nn.Embedding(num_embeddings=NUM_CLASSES, embedding_dim=z_dim)\n",
    "        self.generator = Generator(z_dim=z_dim).to(DEVICE)\n",
    "\n",
    "    def forward(self, x, label=torch.LongTensor([0]).to(DEVICE)):\n",
    "        label_embedding = self.label_embedding(label)\n",
    "        x = torch.mul(x, label_embedding)\n",
    "        output = self.generator(x)\n",
    "        return output\n",
    "\n",
    "\n",
    "cond_gen = ConditionalGenerator(Z_DIM).to(DEVICE)\n",
    "summary(cond_gen, (100, ))"
   ]
  },
  {
   "cell_type": "code",
   "execution_count": 4,
   "id": "baa44d4a",
   "metadata": {},
   "outputs": [
    {
     "name": "stdout",
     "output_type": "stream",
     "text": [
      "----------------------------------------------------------------\n",
      "        Layer (type)               Output Shape         Param #\n",
      "================================================================\n",
      "         Embedding-1                  [-1, 784]           7,840\n",
      "            Conv2d-2           [-1, 64, 14, 14]           1,216\n",
      "         LeakyReLU-3           [-1, 64, 14, 14]               0\n",
      "            Conv2d-4             [-1, 64, 7, 7]          36,928\n",
      "         LeakyReLU-5             [-1, 64, 7, 7]               0\n",
      "            Conv2d-6            [-1, 128, 3, 3]          73,856\n",
      "         LeakyReLU-7            [-1, 128, 3, 3]               0\n",
      "           Flatten-8                 [-1, 1152]               0\n",
      "            Linear-9                    [-1, 1]           1,153\n",
      "    Discriminator-10                    [-1, 1]               0\n",
      "================================================================\n",
      "Total params: 120,993\n",
      "Trainable params: 120,993\n",
      "Non-trainable params: 0\n",
      "----------------------------------------------------------------\n",
      "Input size (MB): 0.00\n",
      "Forward/backward pass size (MB): 0.27\n",
      "Params size (MB): 0.46\n",
      "Estimated Total Size (MB): 0.74\n",
      "----------------------------------------------------------------\n"
     ]
    }
   ],
   "source": [
    "class Discriminator(nn.Module):\n",
    "    def __init__(self, img_shape):\n",
    "        super(Discriminator, self).__init__()\n",
    "        self.model = nn.Sequential(\n",
    "            nn.Conv2d(in_channels=img_shape[0] + 1, out_channels=64, kernel_size=3, stride=2, padding=1),\n",
    "            nn.LeakyReLU(negative_slope=0.01, inplace=True),\n",
    "            nn.Conv2d(in_channels=64, out_channels=64, kernel_size=3, stride=2, padding=1),\n",
    "            nn.LeakyReLU(negative_slope=0.01, inplace=True),\n",
    "            nn.Conv2d(in_channels=64, out_channels=128, kernel_size=3, stride=2, padding=0),\n",
    "            nn.LeakyReLU(negative_slope=0.01, inplace=True),\n",
    "            nn.Flatten(),\n",
    "            nn.Linear(3 * 3 * 128, 1),\n",
    "        )\n",
    "\n",
    "    def forward(self, x):\n",
    "        x = self.model(x)\n",
    "        return x\n",
    "\n",
    "\n",
    "class ConditionalDiscriminator(nn.Module):\n",
    "    def __init__(self, img_shape):\n",
    "        super(ConditionalDiscriminator, self).__init__()\n",
    "        self.label_embedding = nn.Embedding(num_embeddings=NUM_CLASSES, embedding_dim=np.prod(img_shape))\n",
    "        self.discriminator = Discriminator(img_shape=img_shape).to(DEVICE)\n",
    "        self.img_shape = img_shape\n",
    "\n",
    "    def forward(self, x, label=torch.LongTensor([0, 1]).to(DEVICE)):\n",
    "        label_embedding = self.label_embedding(label)\n",
    "        label_embedding = label_embedding.reshape(-1, *self.img_shape)\n",
    "        x = torch.cat((x, label_embedding), dim=1)\n",
    "        output = self.discriminator(x)\n",
    "        return output\n",
    "\n",
    "\n",
    "cond_dis = ConditionalDiscriminator(img_shape=IMG_SHAPE).to(DEVICE)\n",
    "summary(cond_dis, IMG_SHAPE)"
   ]
  },
  {
   "cell_type": "code",
   "execution_count": 5,
   "id": "a344267d",
   "metadata": {},
   "outputs": [],
   "source": [
    "optimizer_d = optim.Adam(cond_dis.parameters(), lr=0.002)\n",
    "optimizer_g = optim.Adam(cond_gen.parameters(), lr=0.002)\n",
    "criterion = nn.BCEWithLogitsLoss()"
   ]
  },
  {
   "cell_type": "code",
   "execution_count": 12,
   "id": "96c437e9",
   "metadata": {},
   "outputs": [],
   "source": [
    "def sample_images(generator, iteration, image_grid_rows=2, image_grid_cols=5, path=\"./Chapter08_image\"):\n",
    "    if not os.path.exists(path):\n",
    "        os.mkdir(path)\n",
    "    z = torch.randn(image_grid_rows * image_grid_cols, Z_DIM).to(DEVICE)\n",
    "    labels = torch.arange(0, 10).to(DEVICE)\n",
    "    with torch.no_grad():\n",
    "        generator.eval()\n",
    "        gen_imgs = generator(z, labels)\n",
    "        gen_imgs = 0.5 * gen_imgs + 0.5\n",
    "        gen_imgs = gen_imgs.detach().to(torch.device(\"cpu\")).numpy()\n",
    "    fig, axes = plt.subplots(image_grid_rows, image_grid_cols, figsize=(5, 2), sharey=True, sharex=True)\n",
    "    cnt = 0\n",
    "    for i in range(image_grid_rows):\n",
    "        for j in range(image_grid_cols):\n",
    "            axes[i, j].imshow(gen_imgs[cnt, 0, :, :], cmap=\"gray\")\n",
    "            axes[i, j].axis(\"off\")\n",
    "            axes[i, j].set_title(f\"Digit: {cnt}\")\n",
    "            cnt += 1\n",
    "    plt.tight_layout()\n",
    "    plt.savefig(f\"{path}/img_{iteration:03d}\")\n",
    "    plt.close()"
   ]
  },
  {
   "cell_type": "code",
   "execution_count": 13,
   "id": "691e95bb",
   "metadata": {},
   "outputs": [
    {
     "name": "stdout",
     "output_type": "stream",
     "text": [
      "1000 [D loss: 0.4514] [G loss: 1.7173]\n",
      "2000 [D loss: 0.5524] [G loss: 1.8098]\n",
      "3000 [D loss: 0.5245] [G loss: 1.2164]\n",
      "4000 [D loss: 0.4556] [G loss: 1.5558]\n",
      "5000 [D loss: 0.4507] [G loss: 1.4747]\n",
      "6000 [D loss: 0.5086] [G loss: 1.5084]\n",
      "7000 [D loss: 0.5534] [G loss: 1.4093]\n",
      "8000 [D loss: 0.5066] [G loss: 1.4971]\n",
      "9000 [D loss: 0.5023] [G loss: 1.5637]\n",
      "10000 [D loss: 0.4661] [G loss: 1.3553]\n",
      "11000 [D loss: 0.5301] [G loss: 1.3746]\n",
      "12000 [D loss: 0.4738] [G loss: 1.6397]\n",
      "13000 [D loss: 0.5023] [G loss: 1.6365]\n",
      "14000 [D loss: 0.4604] [G loss: 1.4231]\n",
      "15000 [D loss: 0.5486] [G loss: 1.4474]\n",
      "16000 [D loss: 0.4759] [G loss: 1.5105]\n",
      "17000 [D loss: 0.4587] [G loss: 1.7435]\n",
      "18000 [D loss: 0.4623] [G loss: 1.4436]\n",
      "19000 [D loss: 0.5095] [G loss: 1.5688]\n",
      "20000 [D loss: 0.4568] [G loss: 1.6458]\n"
     ]
    }
   ],
   "source": [
    "losses, iteration_checkpoints = [], []\n",
    "iterations = 20000\n",
    "batch_size = 128\n",
    "sample_interval = 1000\n",
    "\n",
    "download_root = \"./MNIST_DATASET\"\n",
    "train_dataset = MNIST(download_root, train=True, download=True)\n",
    "train_img = (train_dataset.data / 127.5) - 1.0\n",
    "train_img = torch.unsqueeze(train_img, 1)\n",
    "train_label = train_dataset.targets\n",
    "\n",
    "real = torch.ones(batch_size, 1).to(DEVICE)\n",
    "fake = torch.zeros(batch_size, 1).to(DEVICE)\n",
    "\n",
    "for iteration in range(iterations):\n",
    "    idx = np.random.randint(low=0, high=train_img.shape[0], size=batch_size)\n",
    "    real_imgs, real_labels = train_img[idx].to(DEVICE), train_label[idx].to(DEVICE)\n",
    "\n",
    "    z = torch.randn(batch_size, Z_DIM).to(DEVICE)\n",
    "    gen_imgs = cond_gen(z, real_labels)\n",
    "\n",
    "    optimizer_d.zero_grad()\n",
    "    d_pred_real, d_pred_fake = cond_dis(real_imgs, real_labels), cond_dis(gen_imgs, real_labels)\n",
    "    d_loss_real, d_loss_fake = criterion(d_pred_real, real), criterion(d_pred_fake, fake)\n",
    "    d_loss = (d_loss_real + d_loss_fake) * 0.5\n",
    "    d_loss.backward()\n",
    "    optimizer_d.step()\n",
    "\n",
    "    z = torch.randn(batch_size, Z_DIM).to(DEVICE)\n",
    "    fake_labels = torch.randint(low=0, high=NUM_CLASSES, size=(batch_size, )).to(DEVICE)\n",
    "    gen_imgs = cond_gen(z, fake_labels)\n",
    "\n",
    "    optimizer_g.zero_grad()\n",
    "    d_pred_fake = cond_dis(gen_imgs, fake_labels)\n",
    "    g_loss = criterion(d_pred_fake, real)\n",
    "    g_loss.backward()\n",
    "    optimizer_g.step()\n",
    "\n",
    "    if (iteration + 1) % sample_interval == 0:\n",
    "        losses.append([d_loss.item(), g_loss.item()])\n",
    "        iteration_checkpoints.append(iteration + 1)\n",
    "        print(f\"{iteration + 1} [D loss: {d_loss.item():.4f}] [G loss: {g_loss.item():.4f}]\")\n",
    "        sample_images(cond_gen, iteration=iteration + 1)"
   ]
  },
  {
   "cell_type": "code",
   "execution_count": 14,
   "id": "94de8162",
   "metadata": {},
   "outputs": [
    {
     "data": {
      "text/plain": [
       "<matplotlib.legend.Legend at 0x16105e4e7c0>"
      ]
     },
     "execution_count": 14,
     "metadata": {},
     "output_type": "execute_result"
    },
    {
     "data": {
      "image/png": "[encoded data removed]",
      "text/plain": [
       "<Figure size 720x360 with 1 Axes>"
      ]
     },
     "metadata": {},
     "output_type": "display_data"
    }
   ],
   "source": [
    "losses_np = np.array(losses)\n",
    "\n",
    "plt.figure(figsize=(10, 5), tight_layout=True)\n",
    "plt.plot(iteration_checkpoints, losses_np.T[0], label=\"Discriminator\")\n",
    "plt.plot(iteration_checkpoints, losses_np.T[1], label=\"Generator\")\n",
    "plt.title(\"Training Loss Plot\")\n",
    "plt.xlabel(\"Iteration\")\n",
    "plt.ylabel(\"Loss\")\n",
    "plt.legend(loc=\"best\")"
   ]
  }
 ],
 "metadata": {
  "kernelspec": {
   "display_name": "Python 3 (ipykernel)",
   "language": "python",
   "name": "python3"
  },
  "language_info": {
   "codemirror_mode": {
    "name": "ipython",
    "version": 3
   },
   "file_extension": ".py",
   "mimetype": "text/x-python",
   "name": "python",
   "nbconvert_exporter": "python",
   "pygments_lexer": "ipython3",
   "version": "3.8.12"
  }
 },
 "nbformat": 4,
 "nbformat_minor": 5
}
