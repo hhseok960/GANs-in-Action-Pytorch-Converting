{
 "cells": [
  {
   "cell_type": "code",
   "execution_count": 1,
   "id": "6721e81f",
   "metadata": {},
   "outputs": [
    {
     "name": "stderr",
     "output_type": "stream",
     "text": [
      "C:\\Users\\shdhk\\anaconda3\\envs\\agent\\lib\\site-packages\\torchvision\\io\\image.py:11: UserWarning: Failed to load image Python extension: Could not find module 'C:\\Users\\shdhk\\anaconda3\\envs\\agent\\Lib\\site-packages\\torchvision\\image.pyd' (or one of its dependencies). Try using the full path with constructor syntax.\n",
      "  warn(f\"Failed to load image Python extension: {e}\")\n"
     ]
    }
   ],
   "source": [
    "import os\n",
    "import numpy as np\n",
    "import matplotlib.pyplot as plt\n",
    "\n",
    "import torch\n",
    "import torch.nn as nn\n",
    "import torch.optim as optim\n",
    "import torch.nn.functional as F\n",
    "from torchsummary import summary\n",
    "from torchvision.datasets import MNIST"
   ]
  },
  {
   "cell_type": "code",
   "execution_count": 2,
   "id": "73981800",
   "metadata": {},
   "outputs": [],
   "source": [
    "plt.style.use(\"ggplot\")\n",
    "DEVICE = torch.device(\"cuda\") if torch.cuda.is_available() else torch.device('cpu')\n",
    "CHANNELS, IMG_ROWS, IMG_COLS = 1, 28, 28\n",
    "IMG_SHAPE = (CHANNELS, IMG_ROWS, IMG_COLS)\n",
    "Z_DIM = 100"
   ]
  },
  {
   "cell_type": "code",
   "execution_count": 3,
   "id": "8117c0dc",
   "metadata": {},
   "outputs": [
    {
     "name": "stdout",
     "output_type": "stream",
     "text": [
      "----------------------------------------------------------------\n",
      "        Layer (type)               Output Shape         Param #\n",
      "================================================================\n",
      "            Linear-1                  [-1, 128]          12,928\n",
      "            Linear-2                  [-1, 784]         101,136\n",
      "              Tanh-3                  [-1, 784]               0\n",
      "================================================================\n",
      "Total params: 114,064\n",
      "Trainable params: 114,064\n",
      "Non-trainable params: 0\n",
      "----------------------------------------------------------------\n",
      "Input size (MB): 0.00\n",
      "Forward/backward pass size (MB): 0.01\n",
      "Params size (MB): 0.44\n",
      "Estimated Total Size (MB): 0.45\n",
      "----------------------------------------------------------------\n"
     ]
    }
   ],
   "source": [
    "class Generator(nn.Module):\n",
    "    def __init__(self, img_shape, z_dim):\n",
    "        super(Generator, self).__init__()\n",
    "        self.fc1 = nn.Linear(z_dim, 128)\n",
    "        self.fc2 = nn.Linear(128, 1 * 28 * 28)\n",
    "        self.tanh = nn.Tanh()\n",
    "        self.img_shape = img_shape\n",
    "\n",
    "    def forward(self, x):\n",
    "        x = F.leaky_relu(self.fc1(x), negative_slope=0.01)\n",
    "        x = self.tanh(self.fc2(x))\n",
    "        x = x.reshape(-1, *self.img_shape)\n",
    "        return x\n",
    "\n",
    "\n",
    "generator = Generator(img_shape=IMG_SHAPE, z_dim=Z_DIM).to(DEVICE)\n",
    "summary(generator, (Z_DIM, ))"
   ]
  },
  {
   "cell_type": "code",
   "execution_count": 4,
   "id": "475f4454",
   "metadata": {},
   "outputs": [
    {
     "name": "stdout",
     "output_type": "stream",
     "text": [
      "----------------------------------------------------------------\n",
      "        Layer (type)               Output Shape         Param #\n",
      "================================================================\n",
      "            Linear-1                  [-1, 128]         100,480\n",
      "            Linear-2                    [-1, 1]             129\n",
      "================================================================\n",
      "Total params: 100,609\n",
      "Trainable params: 100,609\n",
      "Non-trainable params: 0\n",
      "----------------------------------------------------------------\n",
      "Input size (MB): 0.00\n",
      "Forward/backward pass size (MB): 0.00\n",
      "Params size (MB): 0.38\n",
      "Estimated Total Size (MB): 0.39\n",
      "----------------------------------------------------------------\n"
     ]
    }
   ],
   "source": [
    "class Discriminator(nn.Module):\n",
    "    def __init__(self):\n",
    "        super(Discriminator, self).__init__()\n",
    "        self.fc1 = nn.Linear(1 * 28 * 28, 128)\n",
    "        self.fc2 = nn.Linear(128, 1)\n",
    "        \n",
    "    def forward(self, x):\n",
    "        x = x.view(-1, 1 * 28 * 28)\n",
    "        x = F.leaky_relu(self.fc1(x), negative_slope=0.01)\n",
    "        output = self.fc2(x)\n",
    "        return output\n",
    "    \n",
    "    \n",
    "discriminator = Discriminator().to(DEVICE)\n",
    "summary(discriminator, IMG_SHAPE)"
   ]
  },
  {
   "cell_type": "code",
   "execution_count": 5,
   "id": "856c8bcf",
   "metadata": {},
   "outputs": [],
   "source": [
    "optimizer_d = optim.Adam(discriminator.parameters(), lr=0.002)\n",
    "optimizer_g = optim.Adam(generator.parameters(), lr=0.002)\n",
    "criterion = nn.BCEWithLogitsLoss()"
   ]
  },
  {
   "cell_type": "code",
   "execution_count": 6,
   "id": "2dc336eb",
   "metadata": {},
   "outputs": [],
   "source": [
    "def sample_images(generator, iteration, image_grid_rows=4, image_grid_cols=4, path=\"./Chapter03_image\"):\n",
    "    if not os.path.exists(path):\n",
    "        os.mkdir(path)\n",
    "    z = torch.randn(image_grid_rows * image_grid_cols, Z_DIM).to(DEVICE)\n",
    "    with torch.no_grad():\n",
    "        generator.eval()\n",
    "        gen_imgs = generator(z)\n",
    "        gen_imgs = 0.5 * gen_imgs + 0.5\n",
    "        gen_imgs = gen_imgs.detach().to(torch.device(\"cpu\")).numpy()\n",
    "    fig, axes = plt.subplots(image_grid_rows, image_grid_cols, figsize=(4, 4), sharey=True, sharex=True)\n",
    "    cnt = 0\n",
    "    for i in range(image_grid_rows):\n",
    "        for j in range(image_grid_cols):\n",
    "            axes[i, j].imshow(gen_imgs[cnt, 0, :, :], cmap=\"gray\")\n",
    "            axes[i, j].axis(\"off\")\n",
    "            cnt += 1\n",
    "    plt.tight_layout()\n",
    "    plt.savefig(f\"{path}/img_{iteration:03d}\")\n",
    "    plt.close()"
   ]
  },
  {
   "cell_type": "code",
   "execution_count": 7,
   "id": "1fa34f65",
   "metadata": {},
   "outputs": [
    {
     "name": "stdout",
     "output_type": "stream",
     "text": [
      "1000 [D loss: 0.0313] [G loss: 6.6698]\n",
      "2000 [D loss: 0.1607] [G loss: 7.9827]\n",
      "3000 [D loss: 0.9048] [G loss: 3.4637]\n",
      "4000 [D loss: 0.7498] [G loss: 2.0711]\n",
      "5000 [D loss: 1.2544] [G loss: 4.2282]\n",
      "6000 [D loss: 0.2959] [G loss: 2.9016]\n",
      "7000 [D loss: 0.6915] [G loss: 1.6878]\n",
      "8000 [D loss: 0.3245] [G loss: 2.3518]\n",
      "9000 [D loss: 0.4516] [G loss: 2.5420]\n",
      "10000 [D loss: 0.9330] [G loss: 1.8050]\n",
      "11000 [D loss: 0.6626] [G loss: 1.5280]\n",
      "12000 [D loss: 0.7604] [G loss: 1.8741]\n",
      "13000 [D loss: 0.4081] [G loss: 2.1926]\n",
      "14000 [D loss: 0.3324] [G loss: 2.6040]\n",
      "15000 [D loss: 0.4007] [G loss: 3.6081]\n",
      "16000 [D loss: 0.6025] [G loss: 2.2720]\n",
      "17000 [D loss: 0.4803] [G loss: 1.6251]\n",
      "18000 [D loss: 0.5638] [G loss: 2.5856]\n",
      "19000 [D loss: 0.6476] [G loss: 2.3660]\n",
      "20000 [D loss: 0.3968] [G loss: 2.3722]\n"
     ]
    }
   ],
   "source": [
    "losses, iteration_checkpoints = [], []\n",
    "iterations = 20000\n",
    "batch_size = 128\n",
    "sample_interval = 1000\n",
    "\n",
    "download_root = \"./MNIST_DATASET\"\n",
    "train_dataset = MNIST(download_root, train=True, download=True)\n",
    "train_img = (train_dataset.data / 127.5) - 1.0\n",
    "train_img = torch.unsqueeze(train_img, 1)\n",
    "\n",
    "real = torch.ones(batch_size, 1).to(DEVICE)\n",
    "fake = torch.zeros(batch_size, 1).to(DEVICE)\n",
    "\n",
    "for iteration in range(iterations):\n",
    "    idx = np.random.randint(low=0, high=train_img.shape[0], size=batch_size)\n",
    "    real_imgs = train_img[idx].to(DEVICE)\n",
    "\n",
    "    z = torch.randn(batch_size, Z_DIM).to(DEVICE)\n",
    "    gen_imgs = generator(z)\n",
    "\n",
    "    optimizer_d.zero_grad()\n",
    "    d_pred_real, d_pred_fake = discriminator(real_imgs), discriminator(gen_imgs)\n",
    "    d_loss_real, d_loss_fake = criterion(d_pred_real, real), criterion(d_pred_fake, fake)\n",
    "    d_loss = (d_loss_real + d_loss_fake) * 0.5\n",
    "    d_loss.backward()\n",
    "    optimizer_d.step()\n",
    "\n",
    "    z = torch.randn(batch_size, Z_DIM).to(DEVICE)\n",
    "    gen_imgs = generator(z)\n",
    "\n",
    "    optimizer_g.zero_grad()\n",
    "    d_pred_fake = discriminator(gen_imgs)\n",
    "    g_loss = criterion(d_pred_fake, real)\n",
    "    g_loss.backward()\n",
    "    optimizer_g.step()\n",
    "\n",
    "    if (iteration + 1) % sample_interval == 0:\n",
    "        losses.append([d_loss.item(), g_loss.item()])\n",
    "        iteration_checkpoints.append(iteration + 1)\n",
    "        print(f\"{iteration + 1} [D loss: {d_loss.item():.4f}] [G loss: {g_loss.item():.4f}]\")\n",
    "        sample_images(generator, iteration=iteration + 1)"
   ]
  },
  {
   "cell_type": "code",
   "execution_count": 8,
   "id": "6ffbdf0b",
   "metadata": {},
   "outputs": [
    {
     "data": {
      "text/plain": [
       "<matplotlib.legend.Legend at 0x21c62fbd700>"
      ]
     },
     "execution_count": 8,
     "metadata": {},
     "output_type": "execute_result"
    },
    {
     "data": {
      "image/png": "[encoded data removed]",
      "text/plain": [
       "<Figure size 720x360 with 1 Axes>"
      ]
     },
     "metadata": {},
     "output_type": "display_data"
    }
   ],
   "source": [
    "losses_np = np.array(losses)\n",
    "\n",
    "plt.figure(figsize=(10, 5), tight_layout=True)\n",
    "plt.plot(iteration_checkpoints, losses_np.T[0], label=\"Discriminator\")\n",
    "plt.plot(iteration_checkpoints, losses_np.T[1], label=\"Generator\")\n",
    "plt.title(\"Training Loss Plot\")\n",
    "plt.xlabel(\"Iteration\")\n",
    "plt.ylabel(\"Loss\")\n",
    "plt.legend(loc=\"best\")"
   ]
  }
 ],
 "metadata": {
  "kernelspec": {
   "display_name": "Python 3 (ipykernel)",
   "language": "python",
   "name": "python3"
  },
  "language_info": {
   "codemirror_mode": {
    "name": "ipython",
    "version": 3
   },
   "file_extension": ".py",
   "mimetype": "text/x-python",
   "name": "python",
   "nbconvert_exporter": "python",
   "pygments_lexer": "ipython3",
   "version": "3.8.12"
  }
 },
 "nbformat": 4,
 "nbformat_minor": 5
}
