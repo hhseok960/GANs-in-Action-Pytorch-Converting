{
 "cells": [
  {
   "cell_type": "code",
   "execution_count": 1,
   "id": "6e9cabc6",
   "metadata": {},
   "outputs": [
    {
     "name": "stderr",
     "output_type": "stream",
     "text": [
      "C:\\Users\\shdhk\\anaconda3\\envs\\agent\\lib\\site-packages\\torchvision\\io\\image.py:11: UserWarning: Failed to load image Python extension: Could not find module 'C:\\Users\\shdhk\\anaconda3\\envs\\agent\\Lib\\site-packages\\torchvision\\image.pyd' (or one of its dependencies). Try using the full path with constructor syntax.\n",
      "  warn(f\"Failed to load image Python extension: {e}\")\n"
     ]
    }
   ],
   "source": [
    "import os\n",
    "import numpy as np\n",
    "import matplotlib.pyplot as plt\n",
    "\n",
    "import torch\n",
    "import torch.nn as nn\n",
    "import torch.optim as optim\n",
    "import torch.nn.functional as F\n",
    "from torchsummary import summary\n",
    "from torchvision.datasets import MNIST"
   ]
  },
  {
   "cell_type": "code",
   "execution_count": 21,
   "id": "4169324f",
   "metadata": {},
   "outputs": [],
   "source": [
    "plt.style.use(\"ggplot\")\n",
    "DEVICE = torch.device(\"cuda\") if torch.cuda.is_available() else torch.device(\"cpu\")\n",
    "CHANNELS, IMG_ROWS, IMG_COLS = 1, 28, 28\n",
    "IMG_SHAPE = (CHANNELS, IMG_ROWS, IMG_COLS)\n",
    "Z_DIM = 100"
   ]
  },
  {
   "cell_type": "code",
   "execution_count": 10,
   "id": "c8f886d5",
   "metadata": {},
   "outputs": [
    {
     "name": "stdout",
     "output_type": "stream",
     "text": [
      "----------------------------------------------------------------\n",
      "        Layer (type)               Output Shape         Param #\n",
      "================================================================\n",
      "            Linear-1                [-1, 12544]       1,266,944\n",
      "   ConvTranspose2d-2          [-1, 128, 14, 14]         295,040\n",
      "       BatchNorm2d-3          [-1, 128, 14, 14]             256\n",
      "         LeakyReLU-4          [-1, 128, 14, 14]               0\n",
      "   ConvTranspose2d-5           [-1, 64, 14, 14]          73,792\n",
      "       BatchNorm2d-6           [-1, 64, 14, 14]             128\n",
      "         LeakyReLU-7           [-1, 64, 14, 14]               0\n",
      "   ConvTranspose2d-8            [-1, 1, 28, 28]             577\n",
      "              Tanh-9            [-1, 1, 28, 28]               0\n",
      "================================================================\n",
      "Total params: 1,636,737\n",
      "Trainable params: 1,636,737\n",
      "Non-trainable params: 0\n",
      "----------------------------------------------------------------\n",
      "Input size (MB): 0.00\n",
      "Forward/backward pass size (MB): 0.97\n",
      "Params size (MB): 6.24\n",
      "Estimated Total Size (MB): 7.21\n",
      "----------------------------------------------------------------\n"
     ]
    }
   ],
   "source": [
    "class Generator(nn.Module):\n",
    "    def __init__(self, z_dim):\n",
    "        super(Generator, self).__init__()\n",
    "        self.fc = nn.Linear(z_dim, 256 * 7 * 7)\n",
    "        self.model = nn.Sequential(\n",
    "            nn.ConvTranspose2d(in_channels=256, out_channels=128, kernel_size=3, stride=2, padding=1, output_padding=1),\n",
    "            nn.BatchNorm2d(128),\n",
    "            nn.LeakyReLU(negative_slope=0.01, inplace=True),\n",
    "            nn.ConvTranspose2d(in_channels=128, out_channels=64, kernel_size=3, stride=1, padding=1),\n",
    "            nn.BatchNorm2d(64),\n",
    "            nn.LeakyReLU(negative_slope=0.01, inplace=True),\n",
    "            nn.ConvTranspose2d(in_channels=64, out_channels=1, kernel_size=3, stride=2, padding=1, output_padding=1),\n",
    "            nn.Tanh(),\n",
    "        )\n",
    "\n",
    "    def forward(self, x):\n",
    "        x = self.fc(x)\n",
    "        x = x.reshape(-1, 256, 7, 7)\n",
    "        output = self.model(x)\n",
    "        return output\n",
    "    \n",
    "    \n",
    "generator = Generator(z_dim=Z_DIM).to(DEVICE)\n",
    "summary(generator, (Z_DIM, ))"
   ]
  },
  {
   "cell_type": "code",
   "execution_count": 11,
   "id": "209e0c42",
   "metadata": {},
   "outputs": [
    {
     "name": "stdout",
     "output_type": "stream",
     "text": [
      "----------------------------------------------------------------\n",
      "        Layer (type)               Output Shape         Param #\n",
      "================================================================\n",
      "            Conv2d-1           [-1, 32, 14, 14]             320\n",
      "         LeakyReLU-2           [-1, 32, 14, 14]               0\n",
      "            Conv2d-3             [-1, 64, 7, 7]          18,496\n",
      "         LeakyReLU-4             [-1, 64, 7, 7]               0\n",
      "            Conv2d-5            [-1, 128, 3, 3]          73,856\n",
      "         LeakyReLU-6            [-1, 128, 3, 3]               0\n",
      "           Flatten-7                 [-1, 1152]               0\n",
      "            Linear-8                    [-1, 1]           1,153\n",
      "================================================================\n",
      "Total params: 93,825\n",
      "Trainable params: 93,825\n",
      "Non-trainable params: 0\n",
      "----------------------------------------------------------------\n",
      "Input size (MB): 0.00\n",
      "Forward/backward pass size (MB): 0.17\n",
      "Params size (MB): 0.36\n",
      "Estimated Total Size (MB): 0.53\n",
      "----------------------------------------------------------------\n"
     ]
    }
   ],
   "source": [
    "class Discriminator(nn.Module):\n",
    "    def __init__(self, img_shape):\n",
    "        super(Discriminator, self).__init__()\n",
    "        self.model = nn.Sequential(\n",
    "            nn.Conv2d(in_channels=img_shape[0], out_channels=32, kernel_size=3, stride=2, padding=1),\n",
    "            nn.LeakyReLU(negative_slope=0.01, inplace=True),\n",
    "            nn.Conv2d(in_channels=32, out_channels=64, kernel_size=3, stride=2, padding=1),\n",
    "            nn.LeakyReLU(negative_slope=0.01, inplace=True),\n",
    "            nn.Conv2d(in_channels=64, out_channels=128, kernel_size=3, stride=2, padding=0),\n",
    "            nn.LeakyReLU(negative_slope=0.01, inplace=True),\n",
    "            nn.Flatten(),\n",
    "            nn.Linear(3 * 3 * 128, 1),\n",
    "        )\n",
    "\n",
    "    def forward(self, x):\n",
    "        x = self.model(x)\n",
    "        return x\n",
    "    \n",
    "    \n",
    "discriminator = Discriminator(img_shape=IMG_SHAPE).to(DEVICE)\n",
    "summary(discriminator, IMG_SHAPE)"
   ]
  },
  {
   "cell_type": "code",
   "execution_count": 12,
   "id": "4ef2f8a6",
   "metadata": {},
   "outputs": [],
   "source": [
    "optimizer_d = optim.Adam(discriminator.parameters(), lr=0.002)\n",
    "optimizer_g = optim.Adam(generator.parameters(), lr=0.002)\n",
    "criterion = nn.BCEWithLogitsLoss()"
   ]
  },
  {
   "cell_type": "code",
   "execution_count": 16,
   "id": "9585df4b",
   "metadata": {},
   "outputs": [],
   "source": [
    "def sample_images(generator, iteration, image_grid_rows=4, image_grid_cols=4, path=\"./Chapter04_image\"):\n",
    "    if not os.path.exists(path):\n",
    "        os.mkdir(path)\n",
    "    z = torch.randn(image_grid_rows * image_grid_cols, Z_DIM).to(DEVICE)\n",
    "    with torch.no_grad():\n",
    "        generator.eval()\n",
    "        gen_imgs = generator(z)\n",
    "        gen_imgs = 0.5 * gen_imgs + 0.5\n",
    "        gen_imgs = gen_imgs.detach().to(torch.device(\"cpu\")).numpy()\n",
    "    fig, axes = plt.subplots(image_grid_rows, image_grid_cols, figsize=(4, 4), sharey=True, sharex=True)\n",
    "    cnt = 0\n",
    "    for i in range(image_grid_rows):\n",
    "        for j in range(image_grid_cols):\n",
    "            axes[i, j].imshow(gen_imgs[cnt, 0, :, :], cmap=\"gray\")\n",
    "            axes[i, j].axis(\"off\")\n",
    "            cnt += 1\n",
    "    plt.tight_layout()\n",
    "    plt.savefig(f\"{path}/img_{iteration:03d}\")\n",
    "    plt.close()"
   ]
  },
  {
   "cell_type": "code",
   "execution_count": 18,
   "id": "ecaf37b1",
   "metadata": {},
   "outputs": [
    {
     "name": "stdout",
     "output_type": "stream",
     "text": [
      "1000 [D loss: 0.2778] [G loss: 2.0354]\n",
      "2000 [D loss: 0.2393] [G loss: 3.0371]\n",
      "3000 [D loss: 0.2945] [G loss: 2.8582]\n",
      "4000 [D loss: 0.2815] [G loss: 2.4629]\n",
      "5000 [D loss: 0.2764] [G loss: 3.1139]\n",
      "6000 [D loss: 0.2297] [G loss: 2.6224]\n",
      "7000 [D loss: 0.2684] [G loss: 3.0314]\n",
      "8000 [D loss: 0.3487] [G loss: 2.7750]\n",
      "9000 [D loss: 0.2891] [G loss: 3.0938]\n",
      "10000 [D loss: 0.2202] [G loss: 2.7237]\n",
      "11000 [D loss: 0.2927] [G loss: 2.9000]\n",
      "12000 [D loss: 0.2549] [G loss: 2.9362]\n",
      "13000 [D loss: 0.2267] [G loss: 3.0560]\n",
      "14000 [D loss: 0.2310] [G loss: 2.8678]\n",
      "15000 [D loss: 0.3002] [G loss: 3.4558]\n",
      "16000 [D loss: 0.2462] [G loss: 3.2726]\n",
      "17000 [D loss: 0.1995] [G loss: 3.2689]\n",
      "18000 [D loss: 0.2313] [G loss: 3.4316]\n",
      "19000 [D loss: 0.2372] [G loss: 3.1844]\n",
      "20000 [D loss: 0.2584] [G loss: 3.5912]\n"
     ]
    }
   ],
   "source": [
    "losses, iteration_checkpoints = [], []\n",
    "iterations = 20000\n",
    "batch_size = 128\n",
    "sample_interval = 1000\n",
    "\n",
    "download_root = \"./MNIST_DATASET\"\n",
    "train_dataset = MNIST(download_root, train=True, download=True)\n",
    "train_img = (train_dataset.data / 127.5) - 1.0\n",
    "train_img = torch.unsqueeze(train_img, 1)\n",
    "\n",
    "real = torch.ones(batch_size, 1).to(DEVICE)\n",
    "fake = torch.zeros(batch_size, 1).to(DEVICE)\n",
    "\n",
    "for iteration in range(iterations):\n",
    "    idx = np.random.randint(low=0, high=train_img.shape[0], size=batch_size)\n",
    "    real_imgs = train_img[idx].to(DEVICE)\n",
    "    \n",
    "    z = torch.randn(batch_size, Z_DIM).to(DEVICE)\n",
    "    gen_imgs = generator(z)\n",
    "    \n",
    "    optimizer_d.zero_grad()\n",
    "    d_pred_real, d_pred_fake = discriminator(real_imgs), discriminator(gen_imgs)\n",
    "    d_loss_real, d_loss_fake = criterion(d_pred_real, real), criterion(d_pred_fake, fake)\n",
    "    d_loss = (d_loss_real + d_loss_fake) * 0.5\n",
    "    d_loss.backward()\n",
    "    optimizer_d.step()\n",
    "    \n",
    "    z = torch.randn(batch_size, Z_DIM).to(DEVICE)\n",
    "    gen_imgs = generator(z)\n",
    "    \n",
    "    optimizer_g.zero_grad()\n",
    "    d_pred_fake = discriminator(gen_imgs)\n",
    "    g_loss = criterion(d_pred_fake, real)\n",
    "    g_loss.backward()\n",
    "    optimizer_g.step()\n",
    "    \n",
    "    if (iteration + 1) % sample_interval == 0:\n",
    "        losses.append([d_loss.item(), g_loss.item()])\n",
    "        iteration_checkpoints.append(iteration + 1)\n",
    "        print(f\"{iteration + 1} [D loss: {d_loss.item():.4f}] [G loss: {g_loss.item():.4f}]\")\n",
    "        sample_images(generator, iteration=iteration + 1)"
   ]
  },
  {
   "cell_type": "code",
   "execution_count": 22,
   "id": "6815966a",
   "metadata": {},
   "outputs": [
    {
     "data": {
      "text/plain": [
       "<matplotlib.legend.Legend at 0x209781f37c0>"
      ]
     },
     "execution_count": 22,
     "metadata": {},
     "output_type": "execute_result"
    },
    {
     "data": {
      "image/png": "[encoded data removed]",
      "text/plain": [
       "<Figure size 720x360 with 1 Axes>"
      ]
     },
     "metadata": {},
     "output_type": "display_data"
    }
   ],
   "source": [
    "losses_np = np.array(losses)\n",
    "\n",
    "plt.figure(figsize=(10, 5), tight_layout=True)\n",
    "plt.plot(iteration_checkpoints, losses_np.T[0], label=\"Discriminator\")\n",
    "plt.plot(iteration_checkpoints, losses_np.T[1], label=\"Generator\")\n",
    "plt.title(\"Training Loss Plot\")\n",
    "plt.xlabel(\"Iteration\")\n",
    "plt.ylabel(\"Loss\")\n",
    "plt.legend(loc=\"best\")"
   ]
  }
 ],
 "metadata": {
  "kernelspec": {
   "display_name": "Python 3 (ipykernel)",
   "language": "python",
   "name": "python3"
  },
  "language_info": {
   "codemirror_mode": {
    "name": "ipython",
    "version": 3
   },
   "file_extension": ".py",
   "mimetype": "text/x-python",
   "name": "python",
   "nbconvert_exporter": "python",
   "pygments_lexer": "ipython3",
   "version": "3.8.12"
  }
 },
 "nbformat": 4,
 "nbformat_minor": 5
}
